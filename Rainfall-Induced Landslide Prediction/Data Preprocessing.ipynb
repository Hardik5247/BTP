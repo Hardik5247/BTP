{
  "nbformat": 4,
  "nbformat_minor": 0,
  "metadata": {
    "colab": {
      "provenance": [],
      "collapsed_sections": [
        "btYeS0hRm5aA",
        "WToRDE-s9xFu"
      ],
      "toc_visible": true
    },
    "kernelspec": {
      "name": "python3",
      "display_name": "Python 3"
    },
    "language_info": {
      "name": "python"
    }
  },
  "cells": [
    {
      "cell_type": "markdown",
      "source": [
        "## Setup"
      ],
      "metadata": {
        "id": "btYeS0hRm5aA"
      }
    },
    {
      "cell_type": "code",
      "source": [
        "!pip install pyproj"
      ],
      "metadata": {
        "id": "JaMhJxYFTru_",
        "colab": {
          "base_uri": "https://localhost:8080/"
        },
        "outputId": "6d5f5470-7a31-4b2f-a961-a6c9b27b5dee"
      },
      "execution_count": null,
      "outputs": [
        {
          "output_type": "stream",
          "name": "stdout",
          "text": [
            "Looking in indexes: https://pypi.org/simple, https://us-python.pkg.dev/colab-wheels/public/simple/\n",
            "Collecting pyproj\n",
            "  Downloading pyproj-3.5.0-cp39-cp39-manylinux_2_17_x86_64.manylinux2014_x86_64.whl (7.8 MB)\n",
            "\u001b[2K     \u001b[90m━━━━━━━━━━━━━━━━━━━━━━━━━━━━━━━━━━━━━━━━\u001b[0m \u001b[32m7.8/7.8 MB\u001b[0m \u001b[31m40.7 MB/s\u001b[0m eta \u001b[36m0:00:00\u001b[0m\n",
            "\u001b[?25hRequirement already satisfied: certifi in /usr/local/lib/python3.9/dist-packages (from pyproj) (2022.12.7)\n",
            "Installing collected packages: pyproj\n",
            "Successfully installed pyproj-3.5.0\n"
          ]
        }
      ]
    },
    {
      "cell_type": "code",
      "source": [
        "import requests\n",
        "import urllib.parse\n",
        "import pandas as pd\n",
        "import json\n",
        "\n",
        "from pyproj import CRS, Transformer\n",
        "from shapely.geometry import Point\n",
        "from shapely.ops import transform\n",
        "\n",
        "from datetime import datetime, timedelta\n",
        "pd.options.mode.chained_assignment = None  # default='warn'"
      ],
      "metadata": {
        "id": "ZYeYzT1AnDBW"
      },
      "execution_count": null,
      "outputs": []
    },
    {
      "cell_type": "code",
      "source": [
        "original_dataset_path = 'nasa_glc_india.csv'\n",
        "cleaned_dataset_path = 'nasa_glc_india_cleaned.csv'\n",
        "cleaned_dataset_with_rainfall_path = 'nasa_glc_india_cleaned_rainfall.csv'\n",
        "rainfall_data_path = 'landslide_rainfall_data.json'\n",
        "indexed_coord_path = '/content/drive/MyDrive/indexed_coordinates.json'"
      ],
      "metadata": {
        "id": "qYd4TyDonFV3"
      },
      "execution_count": null,
      "outputs": []
    },
    {
      "cell_type": "markdown",
      "source": [
        "## Data Cleaning"
      ],
      "metadata": {
        "id": "NzAN6Alcmy-c"
      }
    },
    {
      "cell_type": "code",
      "source": [
        "df = pd.read_csv(original_dataset_path)"
      ],
      "metadata": {
        "id": "W37vEnQ5XVKi"
      },
      "execution_count": null,
      "outputs": []
    },
    {
      "cell_type": "code",
      "source": [
        "\"\"\"\n",
        "Useful headers: location_accuracy, landslide_category (?), landslide_trigger, longitude, latitude\n",
        "\"\"\"\n",
        "print(df.landslide_trigger.value_counts(), end=\"\\n\\n\")\n",
        "print(df.location_accuracy.value_counts(), end=\"\\n\\n\")\n",
        "print(df.landslide_category.value_counts(), end=\"\\n\\n\")"
      ],
      "metadata": {
        "colab": {
          "base_uri": "https://localhost:8080/"
        },
        "id": "HY5I-TSfX8Ly",
        "outputId": "42cf4bb8-2380-4817-d58d-0869b60338f1"
      },
      "execution_count": null,
      "outputs": [
        {
          "output_type": "stream",
          "name": "stdout",
          "text": [
            "downpour             726\n",
            "rain                 407\n",
            "continuous_rain      285\n",
            "unknown              148\n",
            "monsoon               68\n",
            "construction          36\n",
            "snowfall_snowmelt     23\n",
            "mining                17\n",
            "tropical_cyclone      14\n",
            "flooding               9\n",
            "other                  7\n",
            "leaking_pipe           1\n",
            "Name: landslide_trigger, dtype: int64\n",
            "\n",
            "5km        538\n",
            "1km        341\n",
            "25km       284\n",
            "10km       265\n",
            "50km       178\n",
            "unknown     81\n",
            "exact       44\n",
            "100km        7\n",
            "250km        2\n",
            "Name: location_accuracy, dtype: int64\n",
            "\n",
            "landslide              1500\n",
            "mudslide                106\n",
            "rock_fall                84\n",
            "debris_flow              17\n",
            "complex                  15\n",
            "other                     6\n",
            "unknown                   4\n",
            "translational_slide       3\n",
            "riverbank_collapse        2\n",
            "snow_avalanche            2\n",
            "rotational_slide          1\n",
            "creep                     1\n",
            "Name: landslide_category, dtype: int64\n",
            "\n"
          ]
        }
      ]
    },
    {
      "cell_type": "code",
      "source": [
        "rainfall_landslide_triggers = [\n",
        "    'downpour', 'rain', 'continuous_rain',  \n",
        "    'monsoon', 'tropical_cyclone', 'flooding'\n",
        "]\n",
        "non_rainfall_landslide_triggers = [\n",
        "    'construction', 'snowfall_snowmelt', 'mining', 'leaking_pipe', 'other'\n",
        "]"
      ],
      "metadata": {
        "id": "F-4czgOXYftU"
      },
      "execution_count": null,
      "outputs": []
    },
    {
      "cell_type": "code",
      "source": [
        "\"\"\"\n",
        "Remove landslides on the basis of landslide_trigger (triggering factor) and location_accuracy\n",
        "\"\"\"\n",
        "df_cleaned = df[\n",
        "    (\n",
        "        (df['landslide_trigger'] == 'downpour') | \n",
        "        (df['landslide_trigger'] == 'rain') |\n",
        "        (df['landslide_trigger'] == 'continuous_rain') | \n",
        "        (df['landslide_trigger'] == 'monsoon') | \n",
        "        (df['landslide_trigger'] == 'tropical_cyclone') |\n",
        "        (df['landslide_trigger'] == 'flooding')\n",
        "    ) & \n",
        "    (\n",
        "        (df['location_accuracy'] == 'exact') | \n",
        "        (df['location_accuracy'] == '1km') | \n",
        "        (df['location_accuracy'] == '5km') | \n",
        "        (df['location_accuracy'] == '10km')\n",
        "    )\n",
        "]\n",
        "print(df_cleaned.landslide_trigger.value_counts(), end=\"\\n\\n\")\n",
        "print(df_cleaned.location_accuracy.value_counts(), end=\"\\n\\n\")\n",
        "print(df_cleaned.landslide_category.value_counts(), end=\"\\n\\n\")"
      ],
      "metadata": {
        "colab": {
          "base_uri": "https://localhost:8080/"
        },
        "id": "ag7MjNnEdXyv",
        "outputId": "20c58c0f-3077-41ff-de11-d39b1c2509f9"
      },
      "execution_count": null,
      "outputs": [
        {
          "output_type": "stream",
          "name": "stdout",
          "text": [
            "downpour            472\n",
            "rain                245\n",
            "continuous_rain     219\n",
            "monsoon              57\n",
            "tropical_cyclone      9\n",
            "flooding              7\n",
            "Name: landslide_trigger, dtype: int64\n",
            "\n",
            "5km      470\n",
            "1km      275\n",
            "10km     228\n",
            "exact     36\n",
            "Name: location_accuracy, dtype: int64\n",
            "\n",
            "landslide              865\n",
            "mudslide                63\n",
            "rock_fall               54\n",
            "debris_flow             12\n",
            "complex                  6\n",
            "other                    4\n",
            "translational_slide      2\n",
            "riverbank_collapse       1\n",
            "rotational_slide         1\n",
            "unknown                  1\n",
            "Name: landslide_category, dtype: int64\n",
            "\n"
          ]
        }
      ]
    },
    {
      "cell_type": "code",
      "source": [
        "df_cleaned.to_csv(cleaned_dataset_path, index=False)"
      ],
      "metadata": {
        "id": "1qhQImkFdh4v"
      },
      "execution_count": null,
      "outputs": []
    },
    {
      "cell_type": "markdown",
      "source": [
        "## Data Integration"
      ],
      "metadata": {
        "id": "oe3FDRKA0Pkz"
      }
    },
    {
      "cell_type": "markdown",
      "source": [
        "### Rainfall"
      ],
      "metadata": {
        "id": "WToRDE-s9xFu"
      }
    },
    {
      "cell_type": "code",
      "source": [
        "\"\"\"\n",
        "Rainfall:\n",
        "1. Short term rainfall (i.e. Sum of rain on the day of the landslide and also a day prior) \n",
        "2. Long term rainfall (i.e. Sum of rain on days ranging from 2 to 10 days prior landslide)\n",
        "https://archive-api.open-meteo.com/v1/archive?latitude=52.52&longitude=13.41&start_date=2023-02-19&end_date=2023-03-20&daily=rain_sum&timezone=Asia%2FKolkata\n",
        "\"\"\"\n",
        "df_cleaned = pd.read_csv(cleaned_dataset_path)\n",
        "\n",
        "if 'short_term_rainfall' not in df_cleaned:\n",
        "  df_cleaned['short_term_rainfall'] = ''\n",
        "if 'long_term_rainfall' not in df_cleaned:\n",
        "  df_cleaned['long_term_rainfall'] = ''"
      ],
      "metadata": {
        "id": "cn1CV9dg1kqO"
      },
      "execution_count": null,
      "outputs": []
    },
    {
      "cell_type": "code",
      "source": [
        "date_format = '%Y-%m-%d'\n",
        "\n",
        "def get_rainfall(lat, lon, start_date, end_date):\n",
        "  url = 'https://archive-api.open-meteo.com/v1/archive'\n",
        "  params = {\n",
        "      'latitude': lat,\n",
        "      'longitude': lon,\n",
        "      'start_date': start_date.strftime(date_format),\n",
        "      'end_date': end_date.strftime(date_format),\n",
        "      'daily': 'rain_sum',\n",
        "      'timezone': 'Asia/Kolkata'\n",
        "  }\n",
        "  return requests.get(url + '?' + urllib.parse.urlencode(params)).json()"
      ],
      "metadata": {
        "id": "feYRO396kPWk"
      },
      "execution_count": null,
      "outputs": []
    },
    {
      "cell_type": "code",
      "source": [
        "for i in range(len(df_cleaned['event_date'])):\n",
        "  if df_cleaned['short_term_rainfall'][i] == '':\n",
        "    date_only = df_cleaned['event_date'][i].strip().split()[0].strip()\n",
        "    \n",
        "    end_date = datetime.strptime(date_only, date_format)\n",
        "    start_date = end_date - timedelta(days=10)\n",
        "\n",
        "    # No need to ping the server for data, use 'landslide_rainfall_data.json'\n",
        "    data = get_rainfall(df_cleaned['latitude'][i], df_cleaned['longitude'][i], start_date, end_date)\n",
        "\n",
        "    df_cleaned['short_term_rainfall'][i] = sum(data['daily']['rain_sum'][-2:])\n",
        "    df_cleaned['long_term_rainfall'][i] = sum(data['daily']['rain_sum'][:-2])"
      ],
      "metadata": {
        "id": "oCWA95MFjbtO"
      },
      "execution_count": null,
      "outputs": []
    },
    {
      "cell_type": "code",
      "source": [
        "df_cleaned.to_csv(cleaned_dataset_with_rainfall_path, index=False)"
      ],
      "metadata": {
        "id": "ti9hMerK2aQm"
      },
      "execution_count": null,
      "outputs": []
    },
    {
      "cell_type": "markdown",
      "source": [
        "### Elevation"
      ],
      "metadata": {
        "id": "V-LNXU9Q9_PN"
      }
    },
    {
      "cell_type": "code",
      "source": [
        "\"\"\"\n",
        "Elevation:\n",
        "1. Elevation relief (i.e. Difference between the maximum and minimum elevation within the landslide confidence area)\n",
        "https://www.calcmaps.com/ajax.php?op=elevation_s1&lat=30.477367286124487&lng=77.65326695265027&_=1678902713402\n",
        "\"\"\"\n",
        "df_rainfall = pd.read_csv(cleaned_dataset_with_rainfall_path)\n",
        "\n",
        "length_transform = { 'exact': 0.03, '1km': 1.0, '5km': 5.0, '10km': 10.0 }\n",
        "\n",
        "if 'elevation_relief' not in df_rainfall:\n",
        "  df_rainfall['elevation_relief'] = ''"
      ],
      "metadata": {
        "id": "a4xeZdw--Dt4"
      },
      "execution_count": null,
      "outputs": []
    },
    {
      "cell_type": "code",
      "source": [
        "def geodesic_point_buffer(lat, lon, meters, res):\n",
        "    # Azimuthal equidistant projection\n",
        "    aeqd_proj = CRS.from_proj4(\n",
        "        f\"+proj=aeqd +lat_0={lat} +lon_0={lon} +x_0=0 +y_0=0\")\n",
        "    tfmr = Transformer.from_proj(aeqd_proj, aeqd_proj.geodetic_crs)\n",
        "    buf = Point(0, 0).buffer(distance=meters, resolution=res)\n",
        "    return transform(tfmr.transform, buf).exterior.coords[:]"
      ],
      "metadata": {
        "id": "lSmSgsF0UFkw"
      },
      "execution_count": null,
      "outputs": []
    },
    {
      "cell_type": "code",
      "source": [
        "coords_map = {}"
      ],
      "metadata": {
        "id": "IBFZ8ams9ym2"
      },
      "execution_count": null,
      "outputs": []
    },
    {
      "cell_type": "code",
      "source": [
        "for i in range(len(df_rainfall['latitude'])):\n",
        "  lat = df_rainfall['latitude'][i]\n",
        "  lon = df_rainfall['longitude'][i]\n",
        "  radius_meters = int(length_transform[df_rainfall['location_accuracy'][i]] * 1000)\n",
        "  \n",
        "  coords_within_circle = set([])\n",
        "  for j in range(30, radius_meters + 1, 30):\n",
        "    coords = set(geodesic_point_buffer(lat, lon,  j, (240 * j / 10000)))\n",
        "    coords_within_circle = coords_within_circle.union(coords)\n",
        "  \n",
        "  print(i, len(coords_within_circle))\n",
        "  coords_map[i] = list(coords_within_circle)"
      ],
      "metadata": {
        "id": "Bk5H1gi-KS6K",
        "colab": {
          "base_uri": "https://localhost:8080/",
          "height": 918
        },
        "outputId": "48a36ba1-27fe-4194-f642-c9d255c1d9a2"
      },
      "execution_count": null,
      "outputs": [
        {
          "output_type": "stream",
          "name": "stdout",
          "text": [
            "0 159524\n",
            "1 159524\n",
            "2 1556\n",
            "3 1556\n",
            "4 159524\n",
            "5 159524\n",
            "6 39604\n",
            "7 1556\n",
            "8 1556\n",
            "9 1556\n",
            "10 159524\n",
            "11 39604\n",
            "12 39604\n",
            "13 1556\n",
            "14 39604\n",
            "15 159524\n",
            "16 39604\n",
            "17 1556\n",
            "18 1556\n",
            "19 4\n",
            "20 1556\n",
            "21 1556\n",
            "22 159524\n",
            "23 39604\n",
            "24 39604\n",
            "25 39604\n",
            "26 39604\n",
            "27 39604\n",
            "28 39604\n",
            "29 39604\n",
            "30 159524\n"
          ]
        },
        {
          "output_type": "error",
          "ename": "KeyboardInterrupt",
          "evalue": "ignored",
          "traceback": [
            "\u001b[0;31m---------------------------------------------------------------------------\u001b[0m",
            "\u001b[0;31mKeyboardInterrupt\u001b[0m                         Traceback (most recent call last)",
            "\u001b[0;32m<ipython-input-9-db62165f66f2>\u001b[0m in \u001b[0;36m<cell line: 1>\u001b[0;34m()\u001b[0m\n\u001b[1;32m      6\u001b[0m   \u001b[0mcoords_within_circle\u001b[0m \u001b[0;34m=\u001b[0m \u001b[0mset\u001b[0m\u001b[0;34m(\u001b[0m\u001b[0;34m[\u001b[0m\u001b[0;34m]\u001b[0m\u001b[0;34m)\u001b[0m\u001b[0;34m\u001b[0m\u001b[0;34m\u001b[0m\u001b[0m\n\u001b[1;32m      7\u001b[0m   \u001b[0;32mfor\u001b[0m \u001b[0mj\u001b[0m \u001b[0;32min\u001b[0m \u001b[0mrange\u001b[0m\u001b[0;34m(\u001b[0m\u001b[0;36m30\u001b[0m\u001b[0;34m,\u001b[0m \u001b[0mradius_meters\u001b[0m \u001b[0;34m+\u001b[0m \u001b[0;36m1\u001b[0m\u001b[0;34m,\u001b[0m \u001b[0;36m30\u001b[0m\u001b[0;34m)\u001b[0m\u001b[0;34m:\u001b[0m\u001b[0;34m\u001b[0m\u001b[0;34m\u001b[0m\u001b[0m\n\u001b[0;32m----> 8\u001b[0;31m     \u001b[0mcoords\u001b[0m \u001b[0;34m=\u001b[0m \u001b[0mset\u001b[0m\u001b[0;34m(\u001b[0m\u001b[0mgeodesic_point_buffer\u001b[0m\u001b[0;34m(\u001b[0m\u001b[0mlat\u001b[0m\u001b[0;34m,\u001b[0m \u001b[0mlon\u001b[0m\u001b[0;34m,\u001b[0m  \u001b[0mj\u001b[0m\u001b[0;34m,\u001b[0m \u001b[0;34m(\u001b[0m\u001b[0;36m240\u001b[0m \u001b[0;34m*\u001b[0m \u001b[0mj\u001b[0m \u001b[0;34m/\u001b[0m \u001b[0;36m10000\u001b[0m\u001b[0;34m)\u001b[0m\u001b[0;34m)\u001b[0m\u001b[0;34m)\u001b[0m\u001b[0;34m\u001b[0m\u001b[0;34m\u001b[0m\u001b[0m\n\u001b[0m\u001b[1;32m      9\u001b[0m     \u001b[0mcoords_within_circle\u001b[0m \u001b[0;34m=\u001b[0m \u001b[0mcoords_within_circle\u001b[0m\u001b[0;34m.\u001b[0m\u001b[0munion\u001b[0m\u001b[0;34m(\u001b[0m\u001b[0mcoords\u001b[0m\u001b[0;34m)\u001b[0m\u001b[0;34m\u001b[0m\u001b[0;34m\u001b[0m\u001b[0m\n\u001b[1;32m     10\u001b[0m \u001b[0;34m\u001b[0m\u001b[0m\n",
            "\u001b[0;32m<ipython-input-6-f264e176a429>\u001b[0m in \u001b[0;36mgeodesic_point_buffer\u001b[0;34m(lat, lon, meters, res)\u001b[0m\n\u001b[1;32m      5\u001b[0m     \u001b[0mtfmr\u001b[0m \u001b[0;34m=\u001b[0m \u001b[0mTransformer\u001b[0m\u001b[0;34m.\u001b[0m\u001b[0mfrom_proj\u001b[0m\u001b[0;34m(\u001b[0m\u001b[0maeqd_proj\u001b[0m\u001b[0;34m,\u001b[0m \u001b[0maeqd_proj\u001b[0m\u001b[0;34m.\u001b[0m\u001b[0mgeodetic_crs\u001b[0m\u001b[0;34m)\u001b[0m\u001b[0;34m\u001b[0m\u001b[0;34m\u001b[0m\u001b[0m\n\u001b[1;32m      6\u001b[0m     \u001b[0mbuf\u001b[0m \u001b[0;34m=\u001b[0m \u001b[0mPoint\u001b[0m\u001b[0;34m(\u001b[0m\u001b[0;36m0\u001b[0m\u001b[0;34m,\u001b[0m \u001b[0;36m0\u001b[0m\u001b[0;34m)\u001b[0m\u001b[0;34m.\u001b[0m\u001b[0mbuffer\u001b[0m\u001b[0;34m(\u001b[0m\u001b[0mdistance\u001b[0m\u001b[0;34m=\u001b[0m\u001b[0mmeters\u001b[0m\u001b[0;34m,\u001b[0m \u001b[0mresolution\u001b[0m\u001b[0;34m=\u001b[0m\u001b[0mres\u001b[0m\u001b[0;34m)\u001b[0m\u001b[0;34m\u001b[0m\u001b[0;34m\u001b[0m\u001b[0m\n\u001b[0;32m----> 7\u001b[0;31m     \u001b[0;32mreturn\u001b[0m \u001b[0mtransform\u001b[0m\u001b[0;34m(\u001b[0m\u001b[0mtfmr\u001b[0m\u001b[0;34m.\u001b[0m\u001b[0mtransform\u001b[0m\u001b[0;34m,\u001b[0m \u001b[0mbuf\u001b[0m\u001b[0;34m)\u001b[0m\u001b[0;34m.\u001b[0m\u001b[0mexterior\u001b[0m\u001b[0;34m.\u001b[0m\u001b[0mcoords\u001b[0m\u001b[0;34m[\u001b[0m\u001b[0;34m:\u001b[0m\u001b[0;34m]\u001b[0m\u001b[0;34m\u001b[0m\u001b[0;34m\u001b[0m\u001b[0m\n\u001b[0m",
            "\u001b[0;32m/usr/local/lib/python3.9/dist-packages/shapely/ops.py\u001b[0m in \u001b[0;36mtransform\u001b[0;34m(func, geom)\u001b[0m\n\u001b[1;32m    274\u001b[0m                 \u001b[0;32mreturn\u001b[0m \u001b[0mtype\u001b[0m\u001b[0;34m(\u001b[0m\u001b[0mgeom\u001b[0m\u001b[0;34m)\u001b[0m\u001b[0;34m(\u001b[0m\u001b[0mzip\u001b[0m\u001b[0;34m(\u001b[0m\u001b[0;34m*\u001b[0m\u001b[0mfunc\u001b[0m\u001b[0;34m(\u001b[0m\u001b[0;34m*\u001b[0m\u001b[0mzip\u001b[0m\u001b[0;34m(\u001b[0m\u001b[0;34m*\u001b[0m\u001b[0mgeom\u001b[0m\u001b[0;34m.\u001b[0m\u001b[0mcoords\u001b[0m\u001b[0;34m)\u001b[0m\u001b[0;34m)\u001b[0m\u001b[0;34m)\u001b[0m\u001b[0;34m)\u001b[0m\u001b[0;34m\u001b[0m\u001b[0;34m\u001b[0m\u001b[0m\n\u001b[1;32m    275\u001b[0m             \u001b[0;32melif\u001b[0m \u001b[0mgeom\u001b[0m\u001b[0;34m.\u001b[0m\u001b[0mgeom_type\u001b[0m \u001b[0;34m==\u001b[0m \u001b[0;34m\"Polygon\"\u001b[0m\u001b[0;34m:\u001b[0m\u001b[0;34m\u001b[0m\u001b[0;34m\u001b[0m\u001b[0m\n\u001b[0;32m--> 276\u001b[0;31m                 \u001b[0mshell\u001b[0m \u001b[0;34m=\u001b[0m \u001b[0mtype\u001b[0m\u001b[0;34m(\u001b[0m\u001b[0mgeom\u001b[0m\u001b[0;34m.\u001b[0m\u001b[0mexterior\u001b[0m\u001b[0;34m)\u001b[0m\u001b[0;34m(\u001b[0m\u001b[0mzip\u001b[0m\u001b[0;34m(\u001b[0m\u001b[0;34m*\u001b[0m\u001b[0mfunc\u001b[0m\u001b[0;34m(\u001b[0m\u001b[0;34m*\u001b[0m\u001b[0mzip\u001b[0m\u001b[0;34m(\u001b[0m\u001b[0;34m*\u001b[0m\u001b[0mgeom\u001b[0m\u001b[0;34m.\u001b[0m\u001b[0mexterior\u001b[0m\u001b[0;34m.\u001b[0m\u001b[0mcoords\u001b[0m\u001b[0;34m)\u001b[0m\u001b[0;34m)\u001b[0m\u001b[0;34m)\u001b[0m\u001b[0;34m)\u001b[0m\u001b[0;34m\u001b[0m\u001b[0;34m\u001b[0m\u001b[0m\n\u001b[0m\u001b[1;32m    277\u001b[0m                 holes = list(\n\u001b[1;32m    278\u001b[0m                     \u001b[0mtype\u001b[0m\u001b[0;34m(\u001b[0m\u001b[0mring\u001b[0m\u001b[0;34m)\u001b[0m\u001b[0;34m(\u001b[0m\u001b[0mzip\u001b[0m\u001b[0;34m(\u001b[0m\u001b[0;34m*\u001b[0m\u001b[0mfunc\u001b[0m\u001b[0;34m(\u001b[0m\u001b[0;34m*\u001b[0m\u001b[0mzip\u001b[0m\u001b[0;34m(\u001b[0m\u001b[0;34m*\u001b[0m\u001b[0mring\u001b[0m\u001b[0;34m.\u001b[0m\u001b[0mcoords\u001b[0m\u001b[0;34m)\u001b[0m\u001b[0;34m)\u001b[0m\u001b[0;34m)\u001b[0m\u001b[0;34m)\u001b[0m\u001b[0;34m\u001b[0m\u001b[0;34m\u001b[0m\u001b[0m\n",
            "\u001b[0;32m/usr/local/lib/python3.9/dist-packages/shapely/geometry/polygon.py\u001b[0m in \u001b[0;36m__new__\u001b[0;34m(self, coordinates)\u001b[0m\n\u001b[1;32m     92\u001b[0m \u001b[0;34m\u001b[0m\u001b[0m\n\u001b[1;32m     93\u001b[0m                 \u001b[0mcoordinates\u001b[0m \u001b[0;34m=\u001b[0m \u001b[0mnp\u001b[0m\u001b[0;34m.\u001b[0m\u001b[0marray\u001b[0m\u001b[0;34m(\u001b[0m\u001b[0;34m[\u001b[0m\u001b[0m_coords\u001b[0m\u001b[0;34m(\u001b[0m\u001b[0mo\u001b[0m\u001b[0;34m)\u001b[0m \u001b[0;32mfor\u001b[0m \u001b[0mo\u001b[0m \u001b[0;32min\u001b[0m \u001b[0mcoordinates\u001b[0m\u001b[0;34m]\u001b[0m\u001b[0;34m)\u001b[0m\u001b[0;34m\u001b[0m\u001b[0;34m\u001b[0m\u001b[0m\n\u001b[0;32m---> 94\u001b[0;31m                 \u001b[0;32mif\u001b[0m \u001b[0;32mnot\u001b[0m \u001b[0mnp\u001b[0m\u001b[0;34m.\u001b[0m\u001b[0missubdtype\u001b[0m\u001b[0;34m(\u001b[0m\u001b[0mcoordinates\u001b[0m\u001b[0;34m.\u001b[0m\u001b[0mdtype\u001b[0m\u001b[0;34m,\u001b[0m \u001b[0mnp\u001b[0m\u001b[0;34m.\u001b[0m\u001b[0mnumber\u001b[0m\u001b[0;34m)\u001b[0m\u001b[0;34m:\u001b[0m\u001b[0;34m\u001b[0m\u001b[0;34m\u001b[0m\u001b[0m\n\u001b[0m\u001b[1;32m     95\u001b[0m                     \u001b[0;31m# conversion of coords to 2D array failed, this might be due\u001b[0m\u001b[0;34m\u001b[0m\u001b[0;34m\u001b[0m\u001b[0m\n\u001b[1;32m     96\u001b[0m                     \u001b[0;31m# to inconsistent coordinate dimensionality\u001b[0m\u001b[0;34m\u001b[0m\u001b[0;34m\u001b[0m\u001b[0m\n",
            "\u001b[0;31mKeyboardInterrupt\u001b[0m: "
          ]
        }
      ]
    },
    {
      "cell_type": "code",
      "source": [
        "coords_map"
      ],
      "metadata": {
        "id": "V-HZF5aA45YU"
      },
      "execution_count": null,
      "outputs": []
    },
    {
      "cell_type": "code",
      "source": [
        "def send_request(coords):\n",
        "  locations = \"|\".join([f\"{lat},{lon}\" for lon, lat in coords])\n",
        "  r = requests.get(url=\"https://api.opentopodata.org/v1/srtm30m\", params={'locations': locations})\n",
        "  return r.json() if r.status_code == 200 else {}"
      ],
      "metadata": {
        "id": "Now8OTu8Cd9b"
      },
      "execution_count": null,
      "outputs": []
    }
  ]
}